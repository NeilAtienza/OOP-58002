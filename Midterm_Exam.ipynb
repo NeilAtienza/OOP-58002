{
  "nbformat": 4,
  "nbformat_minor": 0,
  "metadata": {
    "colab": {
      "name": "Midterm Exam.ipynb",
      "provenance": [],
      "authorship_tag": "ABX9TyN5gIJzRAvWBUD0iN4qoUiw",
      "include_colab_link": true
    },
    "kernelspec": {
      "name": "python3",
      "display_name": "Python 3"
    },
    "language_info": {
      "name": "python"
    }
  },
  "cells": [
    {
      "cell_type": "markdown",
      "metadata": {
        "id": "view-in-github",
        "colab_type": "text"
      },
      "source": [
        "<a href=\"https://colab.research.google.com/github/VaNeila/OOP-58002/blob/main/Midterm_Exam.ipynb\" target=\"_parent\"><img src=\"https://colab.research.google.com/assets/colab-badge.svg\" alt=\"Open In Colab\"/></a>"
      ]
    },
    {
      "cell_type": "markdown",
      "source": [
        "Program 1: Modify the program below by adding two conversion methods - Fahrenheit to Celsius and Kelvin to Celsius (50 points)\n",
        "\n",
        "\n",
        "\n",
        "def main():\n",
        "\n",
        "  \n",
        "\n",
        " class TemperatureConversion:\n",
        "\n",
        "  def __init__(self, temp=1):\n",
        "\n",
        "   self._temp = temp\n",
        "\n",
        " class CelsiusToFahrenheit(TemperatureConversion):\n",
        "\n",
        "  def conversion(self):\n",
        "\n",
        "   return (self._temp * 9) / 5 + 32\n",
        "\n",
        " class CelsiusToKelvin(TemperatureConversion):\n",
        "\n",
        "  def conversion(self):\n",
        "\n",
        "   return self._temp + 273.15\n",
        "\n",
        " tempInCelsius = float(input(\"Enter the temperature in Celsius: \"))\n",
        "\n",
        " convert = CelsiusToKelvin(tempInCelsius)\n",
        "\n",
        " print(str(convert.conversion()) + \" Kelvin\")\n",
        "\n",
        " convert = CelsiusToFahrenheit(tempInCelsius)\n",
        "\n",
        " print(str(convert.conversion()) + \" Fahrenheit\")\n",
        "\n",
        "\n",
        "\n",
        "main()"
      ],
      "metadata": {
        "id": "DWz4W0U7X9tx"
      }
    },
    {
      "cell_type": "code",
      "execution_count": 11,
      "metadata": {
        "colab": {
          "base_uri": "https://localhost:8080/"
        },
        "id": "f1KXaMBBXvEx",
        "outputId": "64a2fc3f-d3c1-41a2-ba2b-4265b9ceeea3"
      },
      "outputs": [
        {
          "output_type": "stream",
          "name": "stdout",
          "text": [
            "Enter the temperature in Celsius: 50\n",
            "323.15 Kelvin\n",
            "122.0 Fahrenheit\n",
            "Enter the temperature in Kelvin: 323.15\n",
            "50.0 Celcius from Kelvin\n",
            "Enter the temperature in Farenheit: 122.0\n",
            "50.0 Celcius From Fahrenheit\n"
          ]
        }
      ],
      "source": [
        "def main():\n",
        "\n",
        " class TemperatureConversion:\n",
        "\n",
        "  def __init__(self, temp=1):\n",
        "\n",
        "   self._temp = temp\n",
        "\n",
        " class CelsiusToFahrenheit(TemperatureConversion):\n",
        "\n",
        "  def conversion(self):\n",
        "\n",
        "   return (self._temp * 9) / 5 + 32\n",
        "\n",
        " class CelsiusToKelvin(TemperatureConversion):\n",
        "\n",
        "  def conversion(self):\n",
        "\n",
        "   return self._temp + 273.15\n",
        "\n",
        " tempInCelsius = float(input(\"Enter the temperature in Celsius: \"))\n",
        "\n",
        " convert = CelsiusToKelvin(tempInCelsius)\n",
        "\n",
        " print(str(convert.conversion()) + \" Kelvin\")\n",
        "\n",
        " convert = CelsiusToFahrenheit(tempInCelsius)\n",
        "\n",
        " print(str(convert.conversion()) + \" Fahrenheit\")\n",
        "\n",
        "\n",
        "\n",
        "\n",
        "\n",
        "main()\n",
        "\n",
        "def main1():\n",
        "\n",
        "  class ConversionTemperature:\n",
        "\n",
        "   def __init__(self, temp=1):\n",
        "\n",
        "    self._temp = temp\n",
        "\n",
        "  class FahrenheitToCelcius(ConversionTemperature):\n",
        "\n",
        "   def conversion(self):\n",
        "\n",
        "    return (self._temp - 32) * 5 / 9\n",
        "\n",
        "  class KelvinToCelcius(ConversionTemperature):\n",
        "\n",
        "   def conversion(self):\n",
        "\n",
        "    return self._temp - 273.15\n",
        "\n",
        "  tempInKelvin = float(input(\"Enter the temperature in Kelvin: \"))\n",
        "\n",
        "  convert = KelvinToCelcius(tempInKelvin)\n",
        "\n",
        "  print(str(convert.conversion()) + \" Celcius \")\n",
        "\n",
        "  tempInFarenheit = float(input(\"Enter the temperature in Farenheit: \"))\n",
        "\n",
        "  convert = FahrenheitToCelcius(tempInFarenheit)\n",
        "\n",
        "  print(str(convert.conversion()) + \" Celcius \")\n",
        "\n",
        "\n",
        "\n",
        "main1()\n",
        "\n",
        "\n"
      ]
    }
  ]
}