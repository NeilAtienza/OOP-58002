{
  "nbformat": 4,
  "nbformat_minor": 0,
  "metadata": {
    "colab": {
      "name": "Prelim Exam in OOP.ipynb",
      "provenance": [],
      "authorship_tag": "ABX9TyMdF0NRhi1lCkKsk610J9NU",
      "include_colab_link": true
    },
    "kernelspec": {
      "name": "python3",
      "display_name": "Python 3"
    },
    "language_info": {
      "name": "python"
    }
  },
  "cells": [
    {
      "cell_type": "markdown",
      "metadata": {
        "id": "view-in-github",
        "colab_type": "text"
      },
      "source": [
        "<a href=\"https://colab.research.google.com/github/VaNeila/OOP-58002/blob/main/Prelim_Exam_in_OOP.ipynb\" target=\"_parent\"><img src=\"https://colab.research.google.com/assets/colab-badge.svg\" alt=\"Open In Colab\"/></a>"
      ]
    },
    {
      "cell_type": "markdown",
      "source": [
        "Prelim Exam in OOP\n",
        "\n",
        "\n",
        "*  Write a Python to display your full name, student number, age, and course \n",
        "\n",
        "*   Create a class named Student with attributes: Name, Student_No, Age, School, and Course\n",
        "*   Create an object name Myself and assign an instance for each attribute.\n",
        "\n",
        "*  Create a method Self () using an instantiation of a class.\n",
        "*  Insert your GitHub link \"Prelim Exam\" from your repository named \"OOP 58002\" \n",
        "\n",
        "\n"
      ],
      "metadata": {
        "id": "f7dGcBW7EyXj"
      }
    },
    {
      "cell_type": "code",
      "execution_count": 7,
      "metadata": {
        "colab": {
          "base_uri": "https://localhost:8080/"
        },
        "id": "HIREVvcYEcrs",
        "outputId": "28394743-ad3e-4261-aaf0-1b4e7acb05c6"
      },
      "outputs": [
        {
          "output_type": "stream",
          "name": "stdout",
          "text": [
            "Hi, my name is  Neil Tristan A. Atienza\n",
            "My Student Number is  202118337\n",
            "I am  18 yrs Old\n",
            "I am a Student at  Adamson University\n",
            "I am currently taking  Bachelor of Science in Computer Engineering\n"
          ]
        }
      ],
      "source": [
        "class Student():\n",
        "  def __init__(self,Name,Student_No,Age,School,Course):\n",
        "    self.Name = Name\n",
        "    self.Student_No = Student_No\n",
        "    self.Age = Age\n",
        "    self.School = School\n",
        "    self.Course = Course \n",
        "\n",
        "  def myFunction(self):\n",
        "    print(\"Hi, my name is \",self.Name)\n",
        "    print(\"My Student Number is \",self.Student_No)\n",
        "    print(\"I am \",self.Age)\n",
        "    print(\"I am a Student at \",self.School)\n",
        "    print(\"I am currently taking \",self.Course)\n",
        "\n",
        "s1 = Student(\"Neil Tristan A. Atienza\",202118337, \"18 yrs Old\", \"Adamson University\", \"Bachelor of Science in Computer Engineering\" )\n",
        "s1.myFunction()\n",
        "\n",
        "\n",
        "\n"
      ]
    }
  ]
}