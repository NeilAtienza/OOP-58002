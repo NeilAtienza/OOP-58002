{
  "nbformat": 4,
  "nbformat_minor": 0,
  "metadata": {
    "colab": {
      "name": "Operations and Expressions.ipynb",
      "provenance": [],
      "authorship_tag": "ABX9TyOsBFvtuDupYNxM3tT+jSwd",
      "include_colab_link": true
    },
    "kernelspec": {
      "name": "python3",
      "display_name": "Python 3"
    },
    "language_info": {
      "name": "python"
    }
  },
  "cells": [
    {
      "cell_type": "markdown",
      "metadata": {
        "id": "view-in-github",
        "colab_type": "text"
      },
      "source": [
        "<a href=\"https://colab.research.google.com/github/VaNeila/OOP-58002/blob/main/Operations_and_Expressions.ipynb\" target=\"_parent\"><img src=\"https://colab.research.google.com/assets/colab-badge.svg\" alt=\"Open In Colab\"/></a>"
      ]
    },
    {
      "cell_type": "markdown",
      "source": [
        "Boolean Operators"
      ],
      "metadata": {
        "id": "1eRNS7WKETWN"
      }
    },
    {
      "cell_type": "code",
      "source": [
        "a = 7\n",
        "b = 10\n",
        "\n",
        "\n",
        "print(10>9)\n"
      ],
      "metadata": {
        "colab": {
          "base_uri": "https://localhost:8080/"
        },
        "id": "Mkj49sACESiN",
        "outputId": "8d13843e-b27e-4b31-c74a-f670e3cebc2e"
      },
      "execution_count": null,
      "outputs": [
        {
          "output_type": "stream",
          "name": "stdout",
          "text": [
            "True\n"
          ]
        }
      ]
    },
    {
      "cell_type": "markdown",
      "source": [
        "Bool "
      ],
      "metadata": {
        "id": "eDPSwXfIE4JN"
      }
    },
    {
      "cell_type": "code",
      "source": [
        "print(bool(\"Neil\"))\n",
        "print(bool(1))\n",
        "print(bool(0))\n",
        "print(bool(None))\n",
        "print(bool(True))\n",
        "print(bool(False))"
      ],
      "metadata": {
        "colab": {
          "base_uri": "https://localhost:8080/"
        },
        "id": "R4WGT_YQE5lR",
        "outputId": "59a546eb-d52b-44d4-f4a2-808480bdb11d"
      },
      "execution_count": null,
      "outputs": [
        {
          "output_type": "stream",
          "name": "stdout",
          "text": [
            "True\n",
            "True\n",
            "False\n",
            "False\n",
            "True\n",
            "False\n"
          ]
        }
      ]
    },
    {
      "cell_type": "markdown",
      "source": [
        "Functions can return a boolean"
      ],
      "metadata": {
        "id": "yiit39ZQFsti"
      }
    },
    {
      "cell_type": "code",
      "source": [
        "def my_Function():\n",
        "  return True\n",
        "\n",
        "print(my_Function())"
      ],
      "metadata": {
        "colab": {
          "base_uri": "https://localhost:8080/"
        },
        "id": "m1w5yF1dFv6l",
        "outputId": "6dca8d5c-04f3-4508-f9d0-7aa874669c99"
      },
      "execution_count": 9,
      "outputs": [
        {
          "output_type": "stream",
          "name": "stdout",
          "text": [
            "True\n"
          ]
        }
      ]
    },
    {
      "cell_type": "code",
      "source": [
        "if my_Function():\n",
        "  print(\"True\")\n",
        "else:\n",
        "  print(\"False\")"
      ],
      "metadata": {
        "colab": {
          "base_uri": "https://localhost:8080/"
        },
        "id": "ivlkmx73GaP0",
        "outputId": "ce5f3de9-fb52-40c3-9a02-3cb2ce1e135c"
      },
      "execution_count": 10,
      "outputs": [
        {
          "output_type": "stream",
          "name": "stdout",
          "text": [
            "True\n"
          ]
        }
      ]
    },
    {
      "cell_type": "markdown",
      "source": [
        "Application 1"
      ],
      "metadata": {
        "id": "5JIZSCudKJpW"
      }
    },
    {
      "cell_type": "code",
      "source": [
        "a = 6\n",
        "b = 7\n",
        "print(10>9)\n",
        "print(a==b)\n",
        "print(a!=a)"
      ],
      "metadata": {
        "colab": {
          "base_uri": "https://localhost:8080/"
        },
        "id": "6h3bZGsWKL_a",
        "outputId": "fdc39e25-6703-4fbf-c04f-4dbd3acb5bf4"
      },
      "execution_count": 11,
      "outputs": [
        {
          "output_type": "stream",
          "name": "stdout",
          "text": [
            "True\n",
            "False\n",
            "False\n"
          ]
        }
      ]
    },
    {
      "cell_type": "markdown",
      "source": [
        "Python Operators"
      ],
      "metadata": {
        "id": "gxrMsAfxMHsH"
      }
    },
    {
      "cell_type": "code",
      "source": [
        "print(10+5)\n",
        "print(10-5)\n",
        "print(int(10/5))\n",
        "print(10*5)\n",
        "print(10%5)\n",
        "print(10//3)"
      ],
      "metadata": {
        "colab": {
          "base_uri": "https://localhost:8080/"
        },
        "id": "RAvx55C_MJx6",
        "outputId": "d22a9838-1482-4160-f949-1bfb98876c6d"
      },
      "execution_count": 12,
      "outputs": [
        {
          "output_type": "stream",
          "name": "stdout",
          "text": [
            "15\n",
            "5\n",
            "2\n",
            "50\n",
            "0\n",
            "3\n"
          ]
        }
      ]
    },
    {
      "cell_type": "markdown",
      "source": [
        "Bitwise Operators"
      ],
      "metadata": {
        "id": "4u3DtZoTu56F"
      }
    },
    {
      "cell_type": "code",
      "source": [
        "#a=60, binary 0011 1100\n",
        "#b=15, binary 0000 1111\n",
        "\n",
        "print(a&b)\n",
        "print(a|b)\n",
        "print(a^b)\n",
        "print(a<<b)\n",
        "print(a>>b)\n"
      ],
      "metadata": {
        "colab": {
          "base_uri": "https://localhost:8080/"
        },
        "id": "IBCYYKSEwfzw",
        "outputId": "2490788f-3d19-4f29-d2b6-5173c8061967"
      },
      "execution_count": 13,
      "outputs": [
        {
          "output_type": "stream",
          "name": "stdout",
          "text": [
            "6\n",
            "7\n",
            "1\n",
            "768\n",
            "0\n"
          ]
        }
      ]
    },
    {
      "cell_type": "markdown",
      "source": [
        "Application 2\n",
        "Assignment Operators"
      ],
      "metadata": {
        "id": "AtzC8Vr1vTdE"
      }
    },
    {
      "cell_type": "code",
      "source": [
        "a+=5 #Same As a = a+5\n",
        "a-=5 #Same As a = a-5\n",
        "a*=5 #Same As a = a*5\n",
        "a/=5 #Same As a = a/5\n",
        "a%=5 #Same As a = a%5"
      ],
      "metadata": {
        "id": "sZK8CbWWvgOU"
      },
      "execution_count": 14,
      "outputs": []
    },
    {
      "cell_type": "markdown",
      "source": [
        "Logical Operators"
      ],
      "metadata": {
        "id": "jXvKGUeswrAw"
      }
    },
    {
      "cell_type": "code",
      "source": [
        "k = True \n",
        "l = False \n",
        "print(k and l)\n",
        "print(k or l)\n",
        "print(not(k or l))\n"
      ],
      "metadata": {
        "colab": {
          "base_uri": "https://localhost:8080/"
        },
        "id": "IrGoZPL7wwCe",
        "outputId": "de59a03d-8634-43d9-dab5-4aebfbb8b8f0"
      },
      "execution_count": 15,
      "outputs": [
        {
          "output_type": "stream",
          "name": "stdout",
          "text": [
            "False\n",
            "True\n",
            "False\n"
          ]
        }
      ]
    },
    {
      "cell_type": "markdown",
      "source": [
        "Identity Operators"
      ],
      "metadata": {
        "id": "Wy_RJhIswy6b"
      }
    },
    {
      "cell_type": "code",
      "source": [
        "print(k is l)\n",
        "print(k is not l)"
      ],
      "metadata": {
        "colab": {
          "base_uri": "https://localhost:8080/"
        },
        "id": "gYeY2eqUw3ue",
        "outputId": "bfe00556-2d63-4503-e31c-7eef7fe14856"
      },
      "execution_count": 16,
      "outputs": [
        {
          "output_type": "stream",
          "name": "stdout",
          "text": [
            "False\n",
            "True\n"
          ]
        }
      ]
    },
    {
      "cell_type": "markdown",
      "source": [
        "Control Structure\n",
        "If Statement"
      ],
      "metadata": {
        "id": "hyAwdJj6w53s"
      }
    },
    {
      "cell_type": "code",
      "source": [
        "v = 1\n",
        "z = 1\n",
        "\n",
        "if v<z:\n",
        "  print(\"1 is less than 2\")\n"
      ],
      "metadata": {
        "id": "VFa3cV6exCTp"
      },
      "execution_count": 17,
      "outputs": []
    },
    {
      "cell_type": "markdown",
      "source": [
        "elif Statement"
      ],
      "metadata": {
        "id": "sTaOpjbrxEog"
      }
    },
    {
      "cell_type": "code",
      "source": [
        "if v<z:\n",
        "  print(\"v is less than z\")\n",
        "\n",
        "elif v!=z:\n",
        "  print(\"v is not z\")"
      ],
      "metadata": {
        "id": "_mCQOqJZxfcg"
      },
      "execution_count": 18,
      "outputs": []
    },
    {
      "cell_type": "markdown",
      "source": [
        "else Statement"
      ],
      "metadata": {
        "id": "IjFlaJ_mxG4n"
      }
    },
    {
      "cell_type": "code",
      "source": [
        "number = int(input())\n",
        "\n",
        "if number>0:\n",
        "  print(\"Positive\")\n",
        "\n",
        "elif number<0:\n",
        "  print(\"negative\")\n",
        "\n",
        "else:\n",
        "  print(\"number is equal to zero\")"
      ],
      "metadata": {
        "colab": {
          "base_uri": "https://localhost:8080/"
        },
        "id": "Ieuuz1Syxgnb",
        "outputId": "ad8c814c-3aa5-48ab-aa1b-94e7c7df9fa6"
      },
      "execution_count": 19,
      "outputs": [
        {
          "output_type": "stream",
          "name": "stdout",
          "text": [
            "3\n",
            "Positive\n"
          ]
        }
      ]
    },
    {
      "cell_type": "markdown",
      "source": [
        "Application 3 - Develop a Python program that will accept if a person is entitled to vote or not\n",
        "\n"
      ],
      "metadata": {
        "id": "Cgpt_aYbxJwo"
      }
    },
    {
      "cell_type": "code",
      "source": [
        "age = int(input())\n",
        "\n",
        "if age >= 18:\n",
        "  print(\"You are qualifed to vote\")\n",
        "else:\n",
        "  print(\"you are not qualified to vote\")\n"
      ],
      "metadata": {
        "colab": {
          "base_uri": "https://localhost:8080/"
        },
        "id": "uSbeRh9kxmcx",
        "outputId": "c8478f60-bb96-426f-cbff-d44ed6ba2e10"
      },
      "execution_count": 21,
      "outputs": [
        {
          "output_type": "stream",
          "name": "stdout",
          "text": [
            "18\n",
            "You are qualifed to vote\n"
          ]
        }
      ]
    },
    {
      "cell_type": "markdown",
      "source": [
        "Nested if...else"
      ],
      "metadata": {
        "id": "5yZ3F6JwxM0Q"
      }
    },
    {
      "cell_type": "code",
      "source": [
        "u = int(input())\n",
        "if u>10:\n",
        "  print(\"u is above 10\")\n",
        "  if u>20:\n",
        "    print(\"u is above 20\")\n",
        "    if u>30:\n",
        "      print(\"u is above 30\")\n",
        "      if u>40:\n",
        "        print(\"u is above 40\")\n",
        "        if u>50:\n",
        "          print(\"u is above 50\")\n",
        "        else:\n",
        "          print(\"u is below 50\")"
      ],
      "metadata": {
        "colab": {
          "base_uri": "https://localhost:8080/"
        },
        "id": "JIdwVlKBx3kI",
        "outputId": "75523ce2-66f5-442a-cee0-1ba005cb28bf"
      },
      "execution_count": 22,
      "outputs": [
        {
          "name": "stdout",
          "output_type": "stream",
          "text": [
            "3\n"
          ]
        }
      ]
    },
    {
      "cell_type": "markdown",
      "source": [
        "Loop Structure"
      ],
      "metadata": {
        "id": "ydYyS9NixOWk"
      }
    },
    {
      "cell_type": "code",
      "source": [
        "week = ['Sunday','Monday','Tuesday','Wednesday','Thursday','Friday','Saturday']\n",
        "Season=['rainy','sunny']\n",
        "for x in week:\n",
        "  for y in Season:\n",
        "    print(y,x)"
      ],
      "metadata": {
        "colab": {
          "base_uri": "https://localhost:8080/"
        },
        "id": "sWvLJckUx9Ys",
        "outputId": "c14cf59e-dd0e-44ab-8aac-0f717de994d8"
      },
      "execution_count": 23,
      "outputs": [
        {
          "output_type": "stream",
          "name": "stdout",
          "text": [
            "rainy Sunday\n",
            "sunny Sunday\n",
            "rainy Monday\n",
            "sunny Monday\n",
            "rainy Tuesday\n",
            "sunny Tuesday\n",
            "rainy Wednesday\n",
            "sunny Wednesday\n",
            "rainy Thursday\n",
            "sunny Thursday\n",
            "rainy Friday\n",
            "sunny Friday\n",
            "rainy Saturday\n",
            "sunny Saturday\n"
          ]
        }
      ]
    },
    {
      "cell_type": "markdown",
      "source": [
        "Break Statement"
      ],
      "metadata": {
        "id": "yFqTVdMJxWET"
      }
    },
    {
      "cell_type": "code",
      "source": [
        "for x in week:\n",
        "  print(x)\n",
        "  if x == 'Thursday':\n",
        "    break\n"
      ],
      "metadata": {
        "colab": {
          "base_uri": "https://localhost:8080/"
        },
        "id": "gt87nIOsyEIs",
        "outputId": "16ca694c-2c33-4d63-ab10-d04914c3a829"
      },
      "execution_count": 24,
      "outputs": [
        {
          "output_type": "stream",
          "name": "stdout",
          "text": [
            "Sunday\n",
            "Monday\n",
            "Tuesday\n",
            "Wednesday\n",
            "Thursday\n"
          ]
        }
      ]
    },
    {
      "cell_type": "markdown",
      "source": [
        "While Loop"
      ],
      "metadata": {
        "id": "mj8FZqIIxWhv"
      }
    },
    {
      "cell_type": "code",
      "source": [
        "i=1\n",
        "\n",
        "while i<=5:\n",
        "  print(i)\n",
        "  i+=1\n"
      ],
      "metadata": {
        "colab": {
          "base_uri": "https://localhost:8080/"
        },
        "id": "JBUucQHMyPml",
        "outputId": "16e7391f-5416-4f67-dad7-69b7f1c92cf8"
      },
      "execution_count": 25,
      "outputs": [
        {
          "output_type": "stream",
          "name": "stdout",
          "text": [
            "1\n",
            "2\n",
            "3\n",
            "4\n",
            "5\n"
          ]
        }
      ]
    },
    {
      "cell_type": "markdown",
      "source": [
        "Application 4 - Create a Python program thatdisplays numbers from 1 to 7"
      ],
      "metadata": {
        "id": "s2DU0SZcxZDY"
      }
    },
    {
      "cell_type": "code",
      "source": [
        "j=1\n",
        "while j<=7:\n",
        "  print(j)\n",
        "  j+=1\n"
      ],
      "metadata": {
        "colab": {
          "base_uri": "https://localhost:8080/"
        },
        "id": "TKpkvMtpyTRR",
        "outputId": "9abaf664-3ba2-4d1b-b089-c6e9676951cd"
      },
      "execution_count": 26,
      "outputs": [
        {
          "output_type": "stream",
          "name": "stdout",
          "text": [
            "1\n",
            "2\n",
            "3\n",
            "4\n",
            "5\n",
            "6\n",
            "7\n"
          ]
        }
      ]
    },
    {
      "cell_type": "markdown",
      "source": [
        "Application 5 - Create a Python program that displays number 7 using while and break statement"
      ],
      "metadata": {
        "id": "KUdGZoa6xaao"
      }
    },
    {
      "cell_type": "code",
      "source": [
        "j=1\n",
        "while j<=7:\n",
        "  j+=1\n",
        "  if j == 7:\n",
        "   print(j)"
      ],
      "metadata": {
        "colab": {
          "base_uri": "https://localhost:8080/"
        },
        "id": "tgLOe6TGyVzz",
        "outputId": "bb36adc1-c2ae-4f35-8191-a7321b9f1440"
      },
      "execution_count": 27,
      "outputs": [
        {
          "output_type": "stream",
          "name": "stdout",
          "text": [
            "7\n"
          ]
        }
      ]
    }
  ]
}