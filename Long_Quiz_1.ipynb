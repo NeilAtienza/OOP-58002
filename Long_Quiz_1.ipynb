{
  "nbformat": 4,
  "nbformat_minor": 0,
  "metadata": {
    "colab": {
      "name": "Long Quiz 1.ipynb",
      "provenance": [],
      "authorship_tag": "ABX9TyOyHv7liGh6yAPl5llQHH7Y",
      "include_colab_link": true
    },
    "kernelspec": {
      "name": "python3",
      "display_name": "Python 3"
    },
    "language_info": {
      "name": "python"
    }
  },
  "cells": [
    {
      "cell_type": "markdown",
      "metadata": {
        "id": "view-in-github",
        "colab_type": "text"
      },
      "source": [
        "<a href=\"https://colab.research.google.com/github/VaNeila/OOP-58002/blob/main/Long_Quiz_1.ipynb\" target=\"_parent\"><img src=\"https://colab.research.google.com/assets/colab-badge.svg\" alt=\"Open In Colab\"/></a>"
      ]
    },
    {
      "cell_type": "markdown",
      "source": [
        "Long Quiz 1 Atienza\n",
        "\n",
        "\n",
        "*   Write a Python program that asks the user to enter Celsius and convert it to Fahrenheit.\n",
        "*   Create a class name Temperature and Celsius as attributes\n",
        "\n",
        "*   Create a method Display() the Fahrenheit using an instantiation of a class.\n",
        "*   Create a Fahrenheit() method to convert Celsius to Fahrenheit.\n",
        "\n",
        "\n",
        "\n",
        "\n",
        "\n"
      ],
      "metadata": {
        "id": "n6TWKdsbz4b3"
      }
    },
    {
      "cell_type": "markdown",
      "source": [
        "Long Quiz 1 Atienza"
      ],
      "metadata": {
        "id": "FevwjVMsKgeK"
      }
    },
    {
      "cell_type": "code",
      "source": [
        "class Temperature():\n",
        "  def __init__(self,Celsius):\n",
        "    self.Celsius = Celsius\n",
        "   \n",
        "  def Fahrenheit(self):\n",
        "    result = (self.Celsius * 1.8) + 32\n",
        "    return result\n",
        "    \n",
        "input_Temperature = float(input(\"Insert a Temperature in Celsius: \"))\n",
        "temp = Temperature(input_Temperature)\n",
        "\n",
        "print(\"The answer is\",temp.Fahrenheit())\n",
        "\n",
        "  \n",
        "  \n",
        "    "
      ],
      "metadata": {
        "colab": {
          "base_uri": "https://localhost:8080/"
        },
        "id": "wVx_pdLw0VLV",
        "outputId": "92ccef60-f442-4a5d-f8cc-6c91714a5d1b"
      },
      "execution_count": 37,
      "outputs": [
        {
          "output_type": "stream",
          "name": "stdout",
          "text": [
            "Insert a Temperature in Celsius: 18\n",
            "The answer is 64.4\n"
          ]
        }
      ]
    }
  ]
}